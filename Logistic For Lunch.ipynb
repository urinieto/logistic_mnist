{
 "cells": [
  {
   "cell_type": "code",
   "execution_count": 1,
   "metadata": {
    "collapsed": true
   },
   "outputs": [],
   "source": [
    "from __future__ import absolute_import\n",
    "from __future__ import division\n",
    "from __future__ import print_function\n",
    "\n",
    "from tensorflow.examples.tutorials.mnist import input_data\n",
    "\n",
    "import tensorflow as tf\n",
    "import numpy as np\n",
    "from sklearn.metrics import roc_auc_score\n",
    "\n",
    "import matplotlib.pyplot as plt\n",
    "\n",
    "TRAIN_DIR = 'mnist/input_data'\n",
    "POS = 1\n",
    "NEG = 7\n",
    "\n",
    "%matplotlib inline"
   ]
  },
  {
   "cell_type": "markdown",
   "metadata": {},
   "source": [
    "# MNIST Reading #"
   ]
  },
  {
   "cell_type": "code",
   "execution_count": 2,
   "metadata": {
    "collapsed": false
   },
   "outputs": [
    {
     "name": "stdout",
     "output_type": "stream",
     "text": [
      "Extracting mnist/input_data/train-images-idx3-ubyte.gz\n",
      "Extracting mnist/input_data/train-labels-idx1-ubyte.gz\n",
      "Extracting mnist/input_data/t10k-images-idx3-ubyte.gz\n",
      "Extracting mnist/input_data/t10k-labels-idx1-ubyte.gz\n"
     ]
    }
   ],
   "source": [
    "# Import MNIST data\n",
    "mnist = input_data.read_data_sets(TRAIN_DIR, one_hot=True, validation_size=0)"
   ]
  },
  {
   "cell_type": "code",
   "execution_count": 7,
   "metadata": {
    "collapsed": false
   },
   "outputs": [
    {
     "name": "stdout",
     "output_type": "stream",
     "text": [
      "(13007, 784) (2163, 784)\n"
     ]
    },
    {
     "data": {
      "text/plain": [
       "<matplotlib.image.AxesImage at 0x11910cad0>"
      ]
     },
     "execution_count": 7,
     "metadata": {},
     "output_type": "execute_result"
    },
    {
     "data": {
      "image/png": "[encoded data removed]",
      "text/plain": [
       "<matplotlib.figure.Figure at 0x100690550>"
      ]
     },
     "metadata": {},
     "output_type": "display_data"
    },
    {
     "data": {
      "image/png": "[encoded data removed]",
      "text/plain": [
       "<matplotlib.figure.Figure at 0x118013850>"
      ]
     },
     "metadata": {},
     "output_type": "display_data"
    }
   ],
   "source": [
    "# Get only two digits from MNIST\n",
    "def get_binary_mnist(subset, pos_label=POS, neg_label=NEG):\n",
    "    X = []\n",
    "    Y = []\n",
    "    for i in range(subset.num_examples):\n",
    "        x, y = subset.next_batch(1)\n",
    "        if y.flatten()[pos_label] == 1:\n",
    "            X.append(x.flatten())\n",
    "            Y.append([1])\n",
    "        elif y.flatten()[neg_label] == 1:\n",
    "            X.append(x.flatten())\n",
    "            Y.append([0])\n",
    "    return np.asarray(X), np.asarray(Y)\n",
    "\n",
    "X_train, Y_train = get_binary_mnist(mnist.train)\n",
    "X_test, Y_test = get_binary_mnist(mnist.test)\n",
    "\n",
    "print(X_train.shape, X_test.shape)\n",
    "\n",
    "# Plot positive and negative example:\n",
    "plt.imshow(X_train[np.argwhere(Y_train == 1)[0, 0]].reshape((28, 28)), interpolation=\"nearest\", cmap=\"viridis\")\n",
    "plt.figure()\n",
    "plt.imshow(X_train[np.argwhere(Y_train == 0)[0, 0]].reshape((28, 28)), interpolation=\"nearest\", cmap=\"viridis\")"
   ]
  },
  {
   "cell_type": "markdown",
   "metadata": {},
   "source": [
    "# Logistic Regression with Numpy #"
   ]
  },
  {
   "cell_type": "code",
   "execution_count": 4,
   "metadata": {
    "collapsed": true
   },
   "outputs": [],
   "source": [
    "# TODO"
   ]
  },
  {
   "cell_type": "markdown",
   "metadata": {},
   "source": [
    "# Logistic Regressiong with TensorFlow #"
   ]
  },
  {
   "cell_type": "code",
   "execution_count": 5,
   "metadata": {
    "collapsed": true
   },
   "outputs": [],
   "source": [
    "# TODO"
   ]
  },
  {
   "cell_type": "markdown",
   "metadata": {},
   "source": [
    "# MLP with TensorFlow #"
   ]
  },
  {
   "cell_type": "code",
   "execution_count": null,
   "metadata": {
    "collapsed": true
   },
   "outputs": [],
   "source": [
    "# TODO"
   ]
  }
 ],
 "metadata": {
  "kernelspec": {
   "display_name": "Python 2",
   "language": "python",
   "name": "python2"
  },
  "language_info": {
   "codemirror_mode": {
    "name": "ipython",
    "version": 2
   },
   "file_extension": ".py",
   "mimetype": "text/x-python",
   "name": "python",
   "nbconvert_exporter": "python",
   "pygments_lexer": "ipython2",
   "version": "2.7.13"
  }
 },
 "nbformat": 4,
 "nbformat_minor": 2
}
