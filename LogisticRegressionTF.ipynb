{
 "cells": [
  {
   "cell_type": "code",
   "execution_count": 1,
   "metadata": {
    "collapsed": false
   },
   "outputs": [],
   "source": [
    "from __future__ import absolute_import\n",
    "from __future__ import division\n",
    "from __future__ import print_function\n",
    "\n",
    "from tensorflow.examples.tutorials.mnist import input_data\n",
    "\n",
    "import tensorflow as tf\n",
    "import numpy as np\n",
    "from sklearn.metrics import roc_auc_score\n",
    "\n",
    "TRAIN_DIR = 'mnist/input_data'\n",
    "POS = 1\n",
    "NEG = 7"
   ]
  },
  {
   "cell_type": "code",
   "execution_count": 2,
   "metadata": {
    "collapsed": false
   },
   "outputs": [
    {
     "name": "stdout",
     "output_type": "stream",
     "text": [
      "Extracting mnist/input_data/train-images-idx3-ubyte.gz\n",
      "Extracting mnist/input_data/train-labels-idx1-ubyte.gz\n",
      "Extracting mnist/input_data/t10k-images-idx3-ubyte.gz\n",
      "Extracting mnist/input_data/t10k-labels-idx1-ubyte.gz\n"
     ]
    }
   ],
   "source": [
    "# Import MNIST data\n",
    "mnist = input_data.read_data_sets(TRAIN_DIR, one_hot=True)"
   ]
  },
  {
   "cell_type": "code",
   "execution_count": 3,
   "metadata": {
    "collapsed": false
   },
   "outputs": [],
   "source": [
    "# Get only two digits from MNIST\n",
    "def get_binary_mnist(subset):\n",
    "    X = []\n",
    "    Y = []\n",
    "    for _ in range(subset.num_examples):\n",
    "        x, y = subset.next_batch(1)\n",
    "        if y.flatten()[POS] == 1:\n",
    "            X.append(x.flatten())\n",
    "            Y.append([1])\n",
    "        elif y.flatten()[NEG] == 1:\n",
    "            X.append(x.flatten())\n",
    "            Y.append([0])\n",
    "    return np.asarray(X), np.asarray(Y)\n",
    "\n",
    "X_train, Y_train = get_binary_mnist(mnist.train)\n",
    "X_val, Y_val = get_binary_mnist(mnist.validation)\n",
    "X_test, Y_test = get_binary_mnist(mnist.test)"
   ]
  },
  {
   "cell_type": "code",
   "execution_count": 4,
   "metadata": {
    "collapsed": false
   },
   "outputs": [],
   "source": [
    "# Create the model\n",
    "x = tf.placeholder(tf.float32, [None, 28 * 28])\n",
    "W = tf.Variable(tf.zeros([28 * 28, 1]))\n",
    "b = tf.Variable(tf.zeros([1]))\n",
    "\n",
    "# Logistic Regression Output (Sigmoid)\n",
    "y = tf.divide(1, 1 + tf.exp(-tf.matmul(x, W) + b))\n",
    "\n",
    "# Label\n",
    "y_ = tf.placeholder(tf.float32, [None, 1])\n",
    "\n",
    "# Binary Crossentropy\n",
    "cross_entropy = tf.reduce_mean(-tf.reduce_sum(y_ * tf.log(y) + (1 - y_) * tf.log(1 - y)))\n",
    "\n",
    "# Optimizer\n",
    "train_step = tf.train.GradientDescentOptimizer(0.01).minimize(cross_entropy)"
   ]
  },
  {
   "cell_type": "code",
   "execution_count": 7,
   "metadata": {
    "collapsed": false
   },
   "outputs": [
    {
     "data": {
      "text/plain": [
       "0.99609437940314371"
      ]
     },
     "execution_count": 7,
     "metadata": {},
     "output_type": "execute_result"
    }
   ],
   "source": [
    "# Training\n",
    "sess = tf.InteractiveSession()\n",
    "tf.global_variables_initializer().run()\n",
    "batch_size = 100\n",
    "for i in range(X_train.shape[0] // batch_size):\n",
    "    batch_xs, batch_ys = X_train[i * batch_size:i * batch_size + batch_size], \\\n",
    "        Y_train[i * batch_size:i * batch_size + batch_size]\n",
    "    sess.run(train_step, feed_dict={x: batch_xs, y_: batch_ys})\n",
    "\n",
    "# Test trained model\n",
    "y_pred = sess.run(y, feed_dict={x: X_test, y_: Y_test})\n",
    "roc_auc_score(Y_test, y_pred)"
   ]
  },
  {
   "cell_type": "code",
   "execution_count": 6,
   "metadata": {
    "collapsed": false
   },
   "outputs": [],
   "source": [
    "# Create the model\n",
    "n_hidden = 200\n",
    "x = tf.placeholder(tf.float32, [None, 28 * 28])\n",
    "W1 = tf.Variable(tf.zeros([28 * 28, n_hidden]))\n",
    "b1 = tf.Variable(tf.zeros([n_hidden]))\n",
    "W2 = tf.Variable(tf.zeros([n_hidden, 1]))\n",
    "b2 = tf.Variable(tf.zeros([1]))\n",
    "\n",
    "# Logistic Regression Output (Sigmoid)\n",
    "h = tf.divide(1, 1 + tf.exp(-tf.matmul(x, W1) + b1))\n",
    "y = tf.divide(1, 1 + tf.exp(-tf.matmul(h, W2) + b2))\n",
    "\n",
    "# Label\n",
    "y_ = tf.placeholder(tf.float32, [None, 1])\n",
    "\n",
    "# Binary Crossentropy\n",
    "cross_entropy = tf.reduce_mean(-tf.reduce_sum(y_ * tf.log(y) + (1 - y_) * tf.log(1 - y)))\n",
    "\n",
    "# Optimizer\n",
    "train_step = tf.train.GradientDescentOptimizer(0.01).minimize(cross_entropy)"
   ]
  },
  {
   "cell_type": "code",
   "execution_count": null,
   "metadata": {
    "collapsed": true
   },
   "outputs": [],
   "source": []
  }
 ],
 "metadata": {
  "kernelspec": {
   "display_name": "Python 2",
   "language": "python",
   "name": "python2"
  },
  "language_info": {
   "codemirror_mode": {
    "name": "ipython",
    "version": 2
   },
   "file_extension": ".py",
   "mimetype": "text/x-python",
   "name": "python",
   "nbconvert_exporter": "python",
   "pygments_lexer": "ipython2",
   "version": "2.7.13"
  }
 },
 "nbformat": 4,
 "nbformat_minor": 2
}
