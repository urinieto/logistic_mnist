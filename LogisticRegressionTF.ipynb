{
 "cells": [
  {
   "cell_type": "code",
   "execution_count": 1,
   "metadata": {
    "collapsed": false
   },
   "outputs": [],
   "source": [
    "from __future__ import absolute_import\n",
    "from __future__ import division\n",
    "from __future__ import print_function\n",
    "\n",
    "from tensorflow.examples.tutorials.mnist import input_data\n",
    "\n",
    "import tensorflow as tf\n",
    "import numpy as np\n",
    "from sklearn.metrics import roc_auc_score\n",
    "\n",
    "import matplotlib.pyplot as plt\n",
    "\n",
    "TRAIN_DIR = 'mnist/input_data'\n",
    "POS = 1\n",
    "NEG = 7\n",
    "\n",
    "%matplotlib inline"
   ]
  },
  {
   "cell_type": "code",
   "execution_count": 2,
   "metadata": {
    "collapsed": false
   },
   "outputs": [
    {
     "name": "stdout",
     "output_type": "stream",
     "text": [
      "Extracting mnist/input_data/train-images-idx3-ubyte.gz\n",
      "Extracting mnist/input_data/train-labels-idx1-ubyte.gz\n",
      "Extracting mnist/input_data/t10k-images-idx3-ubyte.gz\n",
      "Extracting mnist/input_data/t10k-labels-idx1-ubyte.gz\n"
     ]
    }
   ],
   "source": [
    "# Import MNIST data\n",
    "mnist = input_data.read_data_sets(TRAIN_DIR, one_hot=True, validation_size=0)"
   ]
  },
  {
   "cell_type": "code",
   "execution_count": 3,
   "metadata": {
    "collapsed": false
   },
   "outputs": [
    {
     "name": "stdout",
     "output_type": "stream",
     "text": [
      "(13007, 784) (2163, 784)\n"
     ]
    },
    {
     "data": {
      "text/plain": [
       "<matplotlib.image.AxesImage at 0x11bd62c10>"
      ]
     },
     "execution_count": 3,
     "metadata": {},
     "output_type": "execute_result"
    },
    {
     "data": {
      "image/png": "[encoded data removed]",
      "text/plain": [
       "<matplotlib.figure.Figure at 0x1069cc6d0>"
      ]
     },
     "metadata": {},
     "output_type": "display_data"
    },
    {
     "data": {
      "image/png": "[encoded data removed]",
      "text/plain": [
       "<matplotlib.figure.Figure at 0x1069cc950>"
      ]
     },
     "metadata": {},
     "output_type": "display_data"
    }
   ],
   "source": [
    "# Get only two digits from MNIST\n",
    "def get_binary_mnist(subset, pos_label=POS, neg_label=NEG):\n",
    "    X = []\n",
    "    Y = []\n",
    "    for i in range(subset.num_examples):\n",
    "        x, y = subset.next_batch(1)\n",
    "        if y.flatten()[pos_label] == 1:\n",
    "            X.append(x.flatten())\n",
    "            Y.append([1])\n",
    "        elif y.flatten()[neg_label] == 1:\n",
    "            X.append(x.flatten())\n",
    "            Y.append([0])\n",
    "    return np.asarray(X), np.asarray(Y)\n",
    "\n",
    "X_train, Y_train = get_binary_mnist(mnist.train)\n",
    "X_test, Y_test = get_binary_mnist(mnist.test)\n",
    "\n",
    "print(X_train.shape, X_test.shape)\n",
    "\n",
    "# Plot positive and negative example:\n",
    "plt.imshow(X_train[np.argwhere(Y_train == 1)[0, 0]].reshape((28, 28)), interpolation=\"nearest\", cmap=\"viridis\")\n",
    "plt.figure()\n",
    "plt.imshow(X_train[np.argwhere(Y_train == 0)[0, 0]].reshape((28, 28)), interpolation=\"nearest\", cmap=\"viridis\")"
   ]
  },
  {
   "cell_type": "code",
   "execution_count": 28,
   "metadata": {
    "collapsed": false
   },
   "outputs": [],
   "source": [
    "# Create the model\n",
    "x = tf.placeholder(tf.float32, [None, 28 * 28])\n",
    "W = tf.Variable(tf.random_normal([28 * 28, 1], stddev=0.1))\n",
    "b = tf.Variable(tf.zeros([1]))\n",
    "\n",
    "# Logistic Regression Output (Sigmoid)\n",
    "y = 1 / (1 + tf.exp(-tf.matmul(x, W) + b))\n",
    "\n",
    "# Label\n",
    "y_ = tf.placeholder(tf.float32, [None, 1])\n",
    "\n",
    "# Binary Crossentropy\n",
    "cross_entropy = -tf.reduce_mean(y_ * tf.log(y) + (1 - y_) * tf.log(1 - y))\n",
    "\n",
    "# Optimizer\n",
    "train_step = tf.train.GradientDescentOptimizer(0.1).minimize(cross_entropy)"
   ]
  },
  {
   "cell_type": "code",
   "execution_count": 29,
   "metadata": {
    "collapsed": false
   },
   "outputs": [
    {
     "name": "stdout",
     "output_type": "stream",
     "text": [
      "Epoch: 1\t Test Accuracy: 0.997309689916\n",
      "Epoch: 2\t Test Accuracy: 0.998027048801\n",
      "Epoch: 3\t Test Accuracy: 0.998340732615\n",
      "Epoch: 4\t Test Accuracy: 0.998523286309\n",
      "Epoch: 5\t Test Accuracy: 0.998659558786\n",
      "Epoch: 6\t Test Accuracy: 0.998773547713\n",
      "Epoch: 7\t Test Accuracy: 0.998845540719\n",
      "Epoch: 8\t Test Accuracy: 0.998905534891\n",
      "Epoch: 9\t Test Accuracy: 0.998959529646\n",
      "Epoch: 10\t Test Accuracy: 0.999021237937\n",
      "Epoch: 11\t Test Accuracy: 0.999071804453\n",
      "Epoch: 12\t Test Accuracy: 0.999111229195\n",
      "Epoch: 13\t Test Accuracy: 0.999144654519\n",
      "Epoch: 14\t Test Accuracy: 0.999172937486\n",
      "Epoch: 15\t Test Accuracy: 0.999199506334\n",
      "Epoch: 16\t Test Accuracy: 0.999221789883\n",
      "Epoch: 17\t Test Accuracy: 0.999244073433\n",
      "Epoch: 18\t Test Accuracy: 0.99927064228\n",
      "Epoch: 19\t Test Accuracy: 0.999295497009\n",
      "Epoch: 20\t Test Accuracy: 0.99931435232\n",
      "Epoch: 21\t Test Accuracy: 0.999330636452\n",
      "Epoch: 22\t Test Accuracy: 0.999341778227\n",
      "Epoch: 23\t Test Accuracy: 0.999355491181\n",
      "Epoch: 24\t Test Accuracy: 0.999369204134\n",
      "Epoch: 25\t Test Accuracy: 0.999381202969\n",
      "Epoch: 26\t Test Accuracy: 0.999394915922\n",
      "Epoch: 27\t Test Accuracy: 0.999406914757\n",
      "Epoch: 28\t Test Accuracy: 0.99942148477\n",
      "Epoch: 29\t Test Accuracy: 0.999435197724\n",
      "Epoch: 30\t Test Accuracy: 0.999446339498\n",
      "Epoch: 31\t Test Accuracy: 0.999457481273\n",
      "Epoch: 32\t Test Accuracy: 0.999467765988\n",
      "Epoch: 33\t Test Accuracy: 0.999478050704\n",
      "Epoch: 34\t Test Accuracy: 0.999489192478\n",
      "Epoch: 35\t Test Accuracy: 0.999498620134\n",
      "Epoch: 36\t Test Accuracy: 0.99950804779\n",
      "Epoch: 37\t Test Accuracy: 0.999513190147\n",
      "Epoch: 38\t Test Accuracy: 0.999526903101\n",
      "Epoch: 39\t Test Accuracy: 0.999532902518\n",
      "Epoch: 40\t Test Accuracy: 0.999543187233\n",
      "Epoch: 41\t Test Accuracy: 0.999555186068\n",
      "Epoch: 42\t Test Accuracy: 0.999567184902\n",
      "Epoch: 43\t Test Accuracy: 0.999573184319\n",
      "Epoch: 44\t Test Accuracy: 0.999580897856\n",
      "Epoch: 45\t Test Accuracy: 0.999591182571\n",
      "Epoch: 46\t Test Accuracy: 0.999595467869\n",
      "Epoch: 47\t Test Accuracy: 0.999605752584\n",
      "Epoch: 48\t Test Accuracy: 0.999609180822\n",
      "Epoch: 49\t Test Accuracy: 0.999617751418\n",
      "Epoch: 50\t Test Accuracy: 0.999625464955\n"
     ]
    }
   ],
   "source": [
    "# Training\n",
    "sess = tf.InteractiveSession()\n",
    "tf.global_variables_initializer().run()\n",
    "batch_size = 256\n",
    "n_epochs = 50\n",
    "for e in range(n_epochs):\n",
    "    for i in range(X_train.shape[0] // batch_size):\n",
    "        batch_xs, batch_ys = X_train[i * batch_size:i * batch_size + batch_size], \\\n",
    "            Y_train[i * batch_size:i * batch_size + batch_size]\n",
    "        sess.run(train_step, feed_dict={x: batch_xs, y_: batch_ys})\n",
    "    \n",
    "    # Test current model\n",
    "    y_pred = sess.run(y, feed_dict={x: X_test, y_: Y_test})\n",
    "    print(\"Epoch: {}\\t Test Accuracy: {}\".format(e + 1, roc_auc_score(Y_test, y_pred)))"
   ]
  },
  {
   "cell_type": "code",
   "execution_count": 21,
   "metadata": {
    "collapsed": false
   },
   "outputs": [
    {
     "name": "stdout",
     "output_type": "stream",
     "text": [
      "0.999693172663\n"
     ]
    },
    {
     "data": {
      "text/plain": [
       "<matplotlib.image.AxesImage at 0x11c5e31d0>"
      ]
     },
     "execution_count": 21,
     "metadata": {},
     "output_type": "execute_result"
    },
    {
     "data": {
      "image/png": "[encoded data removed]",
      "text/plain": [
       "<matplotlib.figure.Figure at 0x11ce4b2d0>"
      ]
     },
     "metadata": {},
     "output_type": "display_data"
    }
   ],
   "source": [
    "# Test trained model\n",
    "y_pred = sess.run(y, feed_dict={x: X_test, y_: Y_test})\n",
    "print(roc_auc_score(Y_test, y_pred))\n",
    "\n",
    "plt.imshow(W.eval().reshape((28, 28)), interpolation=\"nearest\", cmap=\"viridis\")"
   ]
  },
  {
   "cell_type": "code",
   "execution_count": 71,
   "metadata": {
    "collapsed": false
   },
   "outputs": [
    {
     "name": "stdout",
     "output_type": "stream",
     "text": [
      "0.169404 -0.169404\n"
     ]
    }
   ],
   "source": [
    "print(cross_var, np.mean(caca_var))"
   ]
  },
  {
   "cell_type": "code",
   "execution_count": 87,
   "metadata": {
    "collapsed": false
   },
   "outputs": [],
   "source": [
    "# Create the model\n",
    "n_hidden = 32\n",
    "x = tf.placeholder(tf.float32, [None, 28 * 28])\n",
    "W1 = tf.Variable(tf.random_normal([28 * 28, n_hidden], stddev=0.1))\n",
    "b1 = tf.Variable(tf.zeros([n_hidden]))\n",
    "W2 = tf.Variable(tf.random_normal([n_hidden, 1], stddev=0.1))\n",
    "b2 = tf.Variable(tf.zeros([1]))\n",
    "\n",
    "# Logistic Regression Output (Sigmoid)\n",
    "h = tf.nn.relu(tf.divide(1, 1 + tf.exp(-tf.matmul(x, W1) + b1)))\n",
    "y = tf.divide(1, 1 + tf.exp(-tf.matmul(h, W2) + b2))\n",
    "\n",
    "# Label\n",
    "y_ = tf.placeholder(tf.float32, [None, 1])\n",
    "\n",
    "# Binary Crossentropy\n",
    "cross_entropy = -tf.reduce_mean(y_ * tf.log(y) + (1 - y_) * tf.log(1 - y))\n",
    "\n",
    "# Optimizer\n",
    "train_step = tf.train.GradientDescentOptimizer(0.01).minimize(cross_entropy)"
   ]
  },
  {
   "cell_type": "code",
   "execution_count": 89,
   "metadata": {
    "collapsed": false
   },
   "outputs": [
    {
     "name": "stdout",
     "output_type": "stream",
     "text": [
      "0.979068890451\n"
     ]
    },
    {
     "data": {
      "text/plain": [
       "<matplotlib.image.AxesImage at 0x1388347d0>"
      ]
     },
     "execution_count": 89,
     "metadata": {},
     "output_type": "execute_result"
    },
    {
     "data": {
      "image/png": "[encoded data removed]",
      "text/plain": [
       "<matplotlib.figure.Figure at 0x1386a3cd0>"
      ]
     },
     "metadata": {},
     "output_type": "display_data"
    },
    {
     "data": {
      "image/png": "[encoded data removed]",
      "text/plain": [
       "<matplotlib.figure.Figure at 0x1269fac90>"
      ]
     },
     "metadata": {},
     "output_type": "display_data"
    }
   ],
   "source": [
    "# Test trained model\n",
    "y_pred = sess.run(y, feed_dict={x: X_test, y_: Y_test})\n",
    "print(roc_auc_score(Y_test, y_pred))\n",
    "\n",
    "plt.imshow(W1.eval()[:, 0].reshape((28, 28)), interpolation=\"nearest\", cmap=\"viridis\")\n",
    "plt.figure()\n",
    "plt.imshow(np.mean(W1.eval(), axis=1).reshape((28, 28)), interpolation=\"nearest\", cmap=\"viridis\")"
   ]
  },
  {
   "cell_type": "code",
   "execution_count": 4,
   "metadata": {
    "collapsed": true
   },
   "outputs": [],
   "source": [
    "# Create the model\n",
    "n_hidden1 = 128\n",
    "n_hidden2 = 128\n",
    "x = tf.placeholder(tf.float32, [None, 28 * 28])\n",
    "W1 = tf.Variable(tf.random_normal([28 * 28, n_hidden1], stddev=0.1))\n",
    "b1 = tf.Variable(tf.zeros([n_hidden1]))\n",
    "W2 = tf.Variable(tf.random_normal([n_hidden1, n_hidden2], stddev=0.1))\n",
    "b2 = tf.Variable(tf.zeros([1]))\n",
    "W3 = tf.Variable(tf.random_normal([n_hidden2, 1], stddev=0.1))\n",
    "b3 = tf.Variable(tf.zeros([1]))\n",
    "\n",
    "\n",
    "# Logistic Regression Output (Sigmoid)\n",
    "h1 = tf.nn.relu(tf.divide(1, 1 + tf.exp(-tf.matmul(x, W1) + b1)))\n",
    "h2 = tf.nn.relu(tf.divide(1, 1 + tf.exp(-tf.matmul(h1, W2) + b2)))\n",
    "y = tf.divide(1, 1 + tf.exp(-tf.matmul(h2, W3) + b3))\n",
    "\n",
    "# Label\n",
    "y_ = tf.placeholder(tf.float32, [None, 1])\n",
    "\n",
    "# Binary Crossentropy\n",
    "cross_entropy = -tf.reduce_mean(y_ * tf.log(y) + (1 - y_) * tf.log(1 - y))\n",
    "\n",
    "# Optimizer\n",
    "train_step = tf.train.GradientDescentOptimizer(0.1).minimize(cross_entropy)"
   ]
  },
  {
   "cell_type": "code",
   "execution_count": 13,
   "metadata": {
    "collapsed": false
   },
   "outputs": [
    {
     "name": "stdout",
     "output_type": "stream",
     "text": [
      "0.988620819692\n"
     ]
    },
    {
     "data": {
      "text/plain": [
       "<matplotlib.image.AxesImage at 0x1224bf790>"
      ]
     },
     "execution_count": 13,
     "metadata": {},
     "output_type": "execute_result"
    },
    {
     "data": {
      "image/png": "[encoded data removed]",
      "text/plain": [
       "<matplotlib.figure.Figure at 0x135cea790>"
      ]
     },
     "metadata": {},
     "output_type": "display_data"
    },
    {
     "data": {
      "image/png": "[encoded data removed]",
      "text/plain": [
       "<matplotlib.figure.Figure at 0x135cea5d0>"
      ]
     },
     "metadata": {},
     "output_type": "display_data"
    }
   ],
   "source": [
    "y_pred = sess.run(y, feed_dict={x: X_test, y_: Y_test})\n",
    "print(roc_auc_score(Y_test, y_pred))\n",
    "\n",
    "plt.imshow(W1.eval()[:, 0].reshape((28, 28)), interpolation=\"nearest\", cmap=\"viridis\")\n",
    "plt.figure()\n",
    "plt.imshow(np.mean(W1.eval(), axis=1).reshape((28, 28)), interpolation=\"nearest\", cmap=\"viridis\")"
   ]
  },
  {
   "cell_type": "code",
   "execution_count": 26,
   "metadata": {
    "collapsed": true
   },
   "outputs": [],
   "source": [
    "def linear(X, W, b):\n",
    "    return np.dot(X, W) + b\n",
    "\n",
    "def sigmoid(z):\n",
    "    return 1 / (1 + np.exp(-z))\n",
    "\n",
    "def loss(y, y_):\n",
    "    return -np.mean(y_ * np.log(y) + (1 - y_) * np.log(1 - y))\n",
    "\n",
    "def deriv_loss(y, y_, X, W, b):\n",
    "    deriv_sigmoid = np.dot(sigmoid(linear(X, W, b)).T, (1 - sigmoid(linear(X, W, b))))\n",
    "    return np.dot((X.T * deriv_sigmoid), (-y + y_) / (np.dot(np.transpose(y - 1), y)))\n",
    "\n",
    "def sgd(W, dW, lr):\n",
    "    return W - lr * dW"
   ]
  },
  {
   "cell_type": "code",
   "execution_count": 27,
   "metadata": {
    "collapsed": false
   },
   "outputs": [
    {
     "name": "stdout",
     "output_type": "stream",
     "text": [
      "Epoch: 1\t Test Accuracy: 0.998359263256\n",
      "Epoch: 2\t Test Accuracy: 0.99876149819\n",
      "Epoch: 3\t Test Accuracy: 0.999032547706\n",
      "Epoch: 4\t Test Accuracy: 0.999564169735\n",
      "Epoch: 5\t Test Accuracy: 0.999701856042\n",
      "Epoch: 6\t Test Accuracy: 0.999709447971\n",
      "Epoch: 7\t Test Accuracy: 0.999671263709\n",
      "Epoch: 8\t Test Accuracy: 0.99973241657\n",
      "Epoch: 9\t Test Accuracy: 0.999785883879\n",
      "Epoch: 10\t Test Accuracy: 0.999808803779\n"
     ]
    },
    {
     "data": {
      "image/png": "[encoded data removed]",
      "text/plain": [
       "<matplotlib.figure.Figure at 0x136d46290>"
      ]
     },
     "metadata": {},
     "output_type": "display_data"
    }
   ],
   "source": [
    "n_batch = 256\n",
    "W = np.random.normal(scale=0.1, size=(28 * 28, 1))\n",
    "b = 0\n",
    "n_epochs = 10\n",
    "lr = 0.1\n",
    "for e in range(n_epochs):\n",
    "    # Train\n",
    "    for i in range(X_train.shape[0] // n_batch):\n",
    "        X, Y_ = X_train[i * n_batch:i * n_batch + n_batch], \\\n",
    "            Y_train[i * n_batch:i * n_batch + n_batch]\n",
    "        Y = sigmoid(linear(X, W, b))\n",
    "        dW = deriv_loss(Y, Y_, X, W, b)\n",
    "        W = sgd(W, dW, lr)\n",
    "    \n",
    "    # Test current model\n",
    "    acc = []\n",
    "    for i in range(X_test.shape[0] // n_batch):\n",
    "        X, Y_ = X_test[i * n_batch:i * n_batch + n_batch], \\\n",
    "            Y_test[i * n_batch:i * n_batch + n_batch]\n",
    "        Y_pred = sigmoid(linear(X, W, b))\n",
    "        acc.append(roc_auc_score(Y_, Y_pred))\n",
    "        \n",
    "    plt.imshow(W.reshape((28, 28)), interpolation=\"nearest\", cmap=\"viridis\")\n",
    "    print(\"Epoch: {}\\t Test Accuracy: {}\".format(e + 1, np.mean(acc)))"
   ]
  }
 ],
 "metadata": {
  "kernelspec": {
   "display_name": "Python 2",
   "language": "python",
   "name": "python2"
  },
  "language_info": {
   "codemirror_mode": {
    "name": "ipython",
    "version": 2
   },
   "file_extension": ".py",
   "mimetype": "text/x-python",
   "name": "python",
   "nbconvert_exporter": "python",
   "pygments_lexer": "ipython2",
   "version": "2.7.13"
  }
 },
 "nbformat": 4,
 "nbformat_minor": 2
}
