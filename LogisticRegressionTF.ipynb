{
 "cells": [
  {
   "cell_type": "code",
   "execution_count": 2,
   "metadata": {
    "collapsed": false
   },
   "outputs": [],
   "source": [
    "from __future__ import absolute_import\n",
    "from __future__ import division\n",
    "from __future__ import print_function\n",
    "\n",
    "from tensorflow.examples.tutorials.mnist import input_data\n",
    "\n",
    "import tensorflow as tf\n",
    "import numpy as np\n",
    "from sklearn.metrics import roc_auc_score\n",
    "\n",
    "import matplotlib.pyplot as plt\n",
    "\n",
    "TRAIN_DIR = 'mnist/input_data'\n",
    "POS = 1\n",
    "NEG = 7\n",
    "\n",
    "%matplotlib inline"
   ]
  },
  {
   "cell_type": "markdown",
   "metadata": {},
   "source": [
    "# MNIST Reading #\n",
    "\n",
    "We read only two classes of digits, defined by the `POS` and `NEG` variables above."
   ]
  },
  {
   "cell_type": "code",
   "execution_count": 3,
   "metadata": {
    "collapsed": false
   },
   "outputs": [
    {
     "name": "stdout",
     "output_type": "stream",
     "text": [
      "Extracting mnist/input_data/train-images-idx3-ubyte.gz\n",
      "Extracting mnist/input_data/train-labels-idx1-ubyte.gz\n",
      "Extracting mnist/input_data/t10k-images-idx3-ubyte.gz\n",
      "Extracting mnist/input_data/t10k-labels-idx1-ubyte.gz\n"
     ]
    }
   ],
   "source": [
    "# Import MNIST data\n",
    "mnist = input_data.read_data_sets(TRAIN_DIR, one_hot=True, validation_size=0)"
   ]
  },
  {
   "cell_type": "code",
   "execution_count": 4,
   "metadata": {
    "collapsed": false
   },
   "outputs": [
    {
     "name": "stdout",
     "output_type": "stream",
     "text": [
      "(13007, 784) (2163, 784)\n"
     ]
    },
    {
     "data": {
      "text/plain": [
       "<matplotlib.image.AxesImage at 0x1209c4f90>"
      ]
     },
     "execution_count": 4,
     "metadata": {},
     "output_type": "execute_result"
    },
    {
     "data": {
      "image/png": "[encoded data removed]",
      "text/plain": [
       "<matplotlib.figure.Figure at 0x10ba6ee10>"
      ]
     },
     "metadata": {},
     "output_type": "display_data"
    },
    {
     "data": {
      "image/png": "[encoded data removed]",
      "text/plain": [
       "<matplotlib.figure.Figure at 0x10ba6e750>"
      ]
     },
     "metadata": {},
     "output_type": "display_data"
    }
   ],
   "source": [
    "# Get only two digits from MNIST\n",
    "def get_binary_mnist(subset, pos_label=POS, neg_label=NEG):\n",
    "    X = []\n",
    "    Y = []\n",
    "    for i in range(subset.num_examples):\n",
    "        x, y = subset.next_batch(1)\n",
    "        if y.flatten()[pos_label] == 1:\n",
    "            X.append(x.flatten())\n",
    "            Y.append([1])\n",
    "        elif y.flatten()[neg_label] == 1:\n",
    "            X.append(x.flatten())\n",
    "            Y.append([0])\n",
    "    return np.asarray(X), np.asarray(Y)\n",
    "\n",
    "X_train, Y_train = get_binary_mnist(mnist.train)\n",
    "X_test, Y_test = get_binary_mnist(mnist.test)\n",
    "\n",
    "print(X_train.shape, X_test.shape)\n",
    "\n",
    "# Plot positive and negative example:\n",
    "plt.imshow(X_train[np.argwhere(Y_train == 1)[0, 0]].reshape((28, 28)), interpolation=\"nearest\", cmap=\"viridis\")\n",
    "plt.figure()\n",
    "plt.imshow(X_train[np.argwhere(Y_train == 0)[0, 0]].reshape((28, 28)), interpolation=\"nearest\", cmap=\"viridis\")"
   ]
  },
  {
   "cell_type": "markdown",
   "metadata": {},
   "source": [
    "# Logistic Regression with Numpy #\n",
    "\n",
    "Symbols:\n",
    "\n",
    "- $X \\in \\mathbb{R}^{N \\times M}$ is the feature matrix, one observation per row, $N$ observations, and $M = 28 \\times 28$ features per observation.\n",
    "- $\\hat{\\mathbf{y}} \\in \\{0, 1\\}^{N}$ are the ground-truth labels.\n",
    "- $\\mathbf{y} \\in \\mathbb{R}^N$ are the predictions of the models.\n",
    "- $\\mathbf{w} \\in \\mathbb{R}^M$ are the set of weights to learn.\n",
    "- $b$ is the bias to learn.\n",
    "- $\\eta$ is the learning rate.\n",
    "\n",
    "To simplify the derivatives, we will assume that the bias $b$ will always be 0 (i.e., we will not learn it).\n",
    "\n",
    "Model:\n",
    "\n",
    "$$\\sigma(x) = \\frac{1}{1 + e^{-x}}$$\n",
    "\n",
    "$$\\mathbf{y} = \\sigma(X \\mathbf{w} + b)$$\n",
    "\n",
    "Loss function (binary crossentropy):\n",
    "\n",
    "$$L = -\\frac{1}{N} ( \\hat{\\mathbf{y}}^T \\log(\\mathbf{y}) + (1 - \\hat{\\mathbf{y}})^T \\log(1 - \\mathbf{y}) )$$\n",
    "\n",
    "Partial derivate of the loss wrt weights:\n",
    "\n",
    "$$\\frac{\\partial L}{\\partial \\mathbf{w}} = \\sigma(X \\mathbf{w} + b)^T(1 - \\sigma(X \\mathbf{w} + b)) X^T  \\frac{\\mathbf{y} - \\hat{\\mathbf{y}}}{(\\mathbf{y} - 1)^T \\mathbf{y}}$$\n",
    "\n",
    "Stochastic Gradient Descent:\n",
    "\n",
    "$$\\mathbf{w}_{i+1} = \\mathbf{w}_i - \\eta\\frac{\\partial L}{\\partial \\mathbf{w}_i}$$"
   ]
  },
  {
   "cell_type": "code",
   "execution_count": 5,
   "metadata": {
    "collapsed": true
   },
   "outputs": [],
   "source": [
    "def affine(X, W, b):\n",
    "    return np.dot(X, W) + b\n",
    "\n",
    "def sigmoid(X):\n",
    "    return 1 / (1 + np.exp(-X))\n",
    "\n",
    "def model(X, W, b):\n",
    "    return sigmoid(affine(X, W, b))\n",
    "\n",
    "def d_sigmoid(X):\n",
    "    return np.dot(sigmoid(X).T, (1- sigmoid(X)))\n",
    "\n",
    "def d_loss(Y, Y_, X, W, b):\n",
    "    ds = d_sigmoid(affine(X, W, b))\n",
    "    return np.dot(X.T * ds, (Y_ - Y) / np.dot(np.transpose(Y - 1), Y))\n",
    "\n",
    "def sgd(W, dW, lr):\n",
    "    return W - lr * dW"
   ]
  },
  {
   "cell_type": "code",
   "execution_count": 6,
   "metadata": {
    "collapsed": false
   },
   "outputs": [
    {
     "name": "stdout",
     "output_type": "stream",
     "text": [
      "Test Accuracy: 0.999691119066\n"
     ]
    },
    {
     "data": {
      "text/plain": [
       "<matplotlib.image.AxesImage at 0x120e35cd0>"
      ]
     },
     "execution_count": 6,
     "metadata": {},
     "output_type": "execute_result"
    },
    {
     "data": {
      "image/png": "[encoded data removed]",
      "text/plain": [
       "<matplotlib.figure.Figure at 0x108e3ca50>"
      ]
     },
     "metadata": {},
     "output_type": "display_data"
    },
    {
     "data": {
      "image/png": "[encoded data removed]",
      "text/plain": [
       "<matplotlib.figure.Figure at 0x120b9c690>"
      ]
     },
     "metadata": {},
     "output_type": "display_data"
    }
   ],
   "source": [
    "n_batch = 100\n",
    "lr = 0.1\n",
    "N_train = X_train.shape[0]\n",
    "M = X_train.shape[1]\n",
    "\n",
    "# Initialize the weights using Gaussian noise\n",
    "W = np.random.normal(scale=0.1, size=(M, 1))\n",
    "b = 0\n",
    "\n",
    "plt.imshow(W.reshape((28, 28)), interpolation=\"nearest\", cmap=\"inferno\")\n",
    "for i in range(N_train // n_batch):\n",
    "    batch_X, batch_Y = X_train[i * n_batch:i * n_batch + n_batch], \\\n",
    "        Y_train[i * n_batch:i * n_batch + n_batch]\n",
    "    Y = model(batch_X, W, b)\n",
    "    \n",
    "    dW = d_loss(Y, batch_Y, batch_X, W, b)\n",
    "    W = sgd(W, dW, lr)\n",
    "    \n",
    "N_test = X_test.shape[0]\n",
    "acc = []\n",
    "for i in range(N_test // n_batch):\n",
    "    batch_X, batch_Y = X_train[i * n_batch:i * n_batch + n_batch], \\\n",
    "        Y_train[i * n_batch:i * n_batch + n_batch]\n",
    "    Y = model(batch_X, W, b)\n",
    "    acc.append(roc_auc_score(batch_Y, Y))\n",
    "    \n",
    "print(\"Test Accuracy: {}\".format(np.mean(acc)))\n",
    "    \n",
    "plt.figure()\n",
    "plt.imshow(W.reshape((28, 28)), interpolation=\"nearest\", cmap=\"inferno\")"
   ]
  },
  {
   "cell_type": "markdown",
   "metadata": {},
   "source": [
    "# Logistic Regression with TensorFlow #\n",
    "\n",
    "Essentially the same model as before, but the code gets simplified thanks to `tensorflow`.\n",
    "\n",
    "Note that we are learning $b$ in this case."
   ]
  },
  {
   "cell_type": "code",
   "execution_count": 9,
   "metadata": {
    "collapsed": true
   },
   "outputs": [],
   "source": [
    "X = tf.placeholder(tf.float32, shape=[None, 28 * 28])\n",
    "W = tf.Variable(tf.random_normal([28 * 28, 1], stddev=0.1))\n",
    "b = tf.Variable(tf.zeros([1]))\n",
    "Y = 1 / (1 + tf.exp(-tf.matmul(X, W) + b))\n",
    "\n",
    "Y_ = tf.placeholder(tf.float32, [None, 1])\n",
    "\n",
    "cross_entropy = - tf.reduce_mean(Y_ * tf.log(Y) + (1 - Y_) * tf.log(1 - Y))\n",
    "\n",
    "train_step = tf.train.GradientDescentOptimizer(0.1).minimize(cross_entropy)"
   ]
  },
  {
   "cell_type": "code",
   "execution_count": 10,
   "metadata": {
    "collapsed": false
   },
   "outputs": [
    {
     "name": "stdout",
     "output_type": "stream",
     "text": [
      "Test Accuracy: 0.998791545964\n"
     ]
    },
    {
     "data": {
      "text/plain": [
       "<matplotlib.image.AxesImage at 0x137632190>"
      ]
     },
     "execution_count": 10,
     "metadata": {},
     "output_type": "execute_result"
    },
    {
     "data": {
      "image/png": "[encoded data removed]",
      "text/plain": [
       "<matplotlib.figure.Figure at 0x1211afa10>"
      ]
     },
     "metadata": {},
     "output_type": "display_data"
    }
   ],
   "source": [
    "n_batch = 100\n",
    "N_train = X_train.shape[0]\n",
    "\n",
    "sess = tf.InteractiveSession()\n",
    "tf.global_variables_initializer().run()\n",
    "for i in range(N_train // n_batch):\n",
    "    batch_X, batch_Y = X_train[i * n_batch:i * n_batch + n_batch], \\\n",
    "        Y_train[i * n_batch:i * n_batch + n_batch]\n",
    "    sess.run(train_step, feed_dict={X: batch_X, Y_: batch_Y})\n",
    "    \n",
    "Y_pred = sess.run(Y, feed_dict={X: X_test, Y_: Y_test})\n",
    "print(\"Test Accuracy: {}\".format(roc_auc_score(Y_test, Y_pred)))\n",
    "\n",
    "plt.imshow(W.eval().reshape((28, 28)), interpolation=\"nearest\", cmap=\"inferno\")"
   ]
  },
  {
   "cell_type": "markdown",
   "metadata": {},
   "source": [
    "# MLP with TensorFlow #\n",
    "\n",
    "Using `tensorflow` it becomes really simple to extend our logisitic regression example to a multilayer perceptron (MLP).\n",
    "\n",
    "An MLP is essentially an extension of a logistic regression model with one or more hidden layers. In our code we will use a single hidden layer, using also the sigmoid activation $\\sigma$.\n",
    "\n",
    "In this case, we have:\n",
    "\n",
    "- $W_1 \\in \\mathbb{R}^{M \\times H}$ is the set of weights in the hidden layer, where $H$ is the number of hidden units in the hidden layer.\n",
    "- $\\mathbf{b}_1 \\in \\mathbb{R}^{H}$ is the set of biases for the hidden layer.\n",
    "- $\\mathbf{h} \\in \\mathbb{R}^{H}$ is the output of the hidden layer.\n",
    "- $\\mathbf{w}_2 \\in \\mathbb{R}^M$ are the set of weights for the output layer.\n",
    "- $b_2$ is the bias for the output layer\n",
    "\n",
    "MLP model:\n",
    "\n",
    "$$\\sigma(x) = \\frac{1}{1 + e^{-x}}$$\n",
    "\n",
    "$$\\mathbf{h} = \\sigma(X W_1 + \\mathbf{b}_1)$$\n",
    "\n",
    "$$\\mathbf{y} = \\sigma(\\mathbf{h} \\mathbf{w}_2 + b_2)$$"
   ]
  },
  {
   "cell_type": "code",
   "execution_count": 25,
   "metadata": {
    "collapsed": false
   },
   "outputs": [],
   "source": [
    "H = 128\n",
    "M = 28 * 28\n",
    "lr = 0.1\n",
    "X = tf.placeholder(tf.float32, shape=[None, M])\n",
    "W1 = tf.Variable(tf.random_normal([M, H], stddev=0.1))\n",
    "b1 = tf.Variable(tf.zeros([H]))\n",
    "W2 = tf.Variable(tf.random_normal([H, 1], stddev=0.1))\n",
    "b2 = tf.Variable(tf.zeros([1]))\n",
    "h = 1 / (1 + tf.exp(-tf.matmul(X, W1) + b1))\n",
    "Y = 1 / (1 + tf.exp(-tf.matmul(h, W2) + b2))\n",
    "\n",
    "Y_ = tf.placeholder(tf.float32, [None, 1])\n",
    "\n",
    "cross_entropy = - tf.reduce_mean(Y_ * tf.log(Y) + (1 - Y_) * tf.log(1 - Y))\n",
    "\n",
    "train_step = tf.train.GradientDescentOptimizer(lr).minimize(cross_entropy)"
   ]
  },
  {
   "cell_type": "code",
   "execution_count": 27,
   "metadata": {
    "collapsed": false
   },
   "outputs": [
    {
     "name": "stdout",
     "output_type": "stream",
     "text": [
      "Epoch: 1\tTest Accuracy: 0.997925915768\n",
      "Epoch: 2\tTest Accuracy: 0.998566996349\n",
      "Epoch: 3\tTest Accuracy: 0.998866110149\n",
      "Epoch: 4\tTest Accuracy: 0.999040950308\n",
      "Epoch: 5\tTest Accuracy: 0.999146368638\n",
      "Epoch: 6\tTest Accuracy: 0.99922864636\n",
      "Epoch: 7\tTest Accuracy: 0.999295497009\n",
      "Epoch: 8\tTest Accuracy: 0.999351205883\n",
      "Epoch: 9\tTest Accuracy: 0.99940005828\n",
      "Epoch: 10\tTest Accuracy: 0.999430912426\n",
      "Epoch: 11\tTest Accuracy: 0.999462623631\n",
      "Epoch: 12\tTest Accuracy: 0.999491763657\n",
      "Epoch: 13\tTest Accuracy: 0.999520046624\n",
      "Epoch: 14\tTest Accuracy: 0.999543187233\n",
      "Epoch: 15\tTest Accuracy: 0.9995714702\n",
      "Epoch: 16\tTest Accuracy: 0.999597181988\n",
      "Epoch: 17\tTest Accuracy: 0.99961518024\n",
      "Epoch: 18\tTest Accuracy: 0.999627179074\n",
      "Epoch: 19\tTest Accuracy: 0.999639177908\n",
      "Epoch: 20\tTest Accuracy: 0.99965803322\n",
      "Epoch: 21\tTest Accuracy: 0.999675174412\n",
      "Epoch: 22\tTest Accuracy: 0.999693172663\n",
      "Epoch: 23\tTest Accuracy: 0.999706028557\n",
      "Epoch: 24\tTest Accuracy: 0.999716313272\n",
      "Epoch: 25\tTest Accuracy: 0.999729169166\n"
     ]
    },
    {
     "data": {
      "text/plain": [
       "<matplotlib.image.AxesImage at 0x124a75d90>"
      ]
     },
     "execution_count": 27,
     "metadata": {},
     "output_type": "execute_result"
    },
    {
     "data": {
      "image/png": "[encoded data removed]",
      "text/plain": [
       "<matplotlib.figure.Figure at 0x1237d8d90>"
      ]
     },
     "metadata": {},
     "output_type": "display_data"
    }
   ],
   "source": [
    "n_batch = 100\n",
    "n_epochs = 25\n",
    "N_train = X_train.shape[0]\n",
    "\n",
    "sess = tf.InteractiveSession()\n",
    "tf.global_variables_initializer().run()\n",
    "for e in range(n_epochs):\n",
    "    for i in range(N_train // n_batch):\n",
    "        batch_X, batch_Y = X_train[i * n_batch:i * n_batch + n_batch], \\\n",
    "            Y_train[i * n_batch:i * n_batch + n_batch]\n",
    "        sess.run(train_step, feed_dict={X: batch_X, Y_: batch_Y})\n",
    "    \n",
    "    Y_pred = sess.run(Y, feed_dict={X: X_test, Y_: Y_test})\n",
    "    print(\"Epoch: {}\\tTest Accuracy: {}\".format(e + 1, roc_auc_score(Y_test, Y_pred)))\n",
    "\n",
    "plt.imshow(W.eval().reshape((28, 28)), interpolation=\"nearest\", cmap=\"inferno\")"
   ]
  }
 ],
 "metadata": {
  "kernelspec": {
   "display_name": "Python 2",
   "language": "python",
   "name": "python2"
  },
  "language_info": {
   "codemirror_mode": {
    "name": "ipython",
    "version": 2
   },
   "file_extension": ".py",
   "mimetype": "text/x-python",
   "name": "python",
   "nbconvert_exporter": "python",
   "pygments_lexer": "ipython2",
   "version": "2.7.13"
  }
 },
 "nbformat": 4,
 "nbformat_minor": 2
}
